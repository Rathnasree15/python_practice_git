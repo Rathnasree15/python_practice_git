{
 "cells": [
  {
   "cell_type": "code",
   "execution_count": 3,
   "id": "e3d10218",
   "metadata": {},
   "outputs": [
    {
     "name": "stdout",
     "output_type": "stream",
     "text": [
      "Light - Misa - L - Ryuk\n"
     ]
    }
   ],
   "source": [
    "death_note = ['Light', 'Misa', 'L', 'Ryuk']\n",
    "death_str = ' - '.join(death_note) #To seperate each item in list with '-'\n",
    "print(death_str)"
   ]
  },
  {
   "cell_type": "code",
   "execution_count": 4,
   "id": "a698140b",
   "metadata": {},
   "outputs": [
    {
     "name": "stdout",
     "output_type": "stream",
     "text": [
      "['Light ', ' Misa ', ' L ', ' Ryuk']\n"
     ]
    }
   ],
   "source": [
    "new_list = death_str.split('-')\n",
    "print(new_list)"
   ]
  },
  {
   "cell_type": "code",
   "execution_count": 7,
   "id": "47abe8e9",
   "metadata": {},
   "outputs": [
    {
     "name": "stdout",
     "output_type": "stream",
     "text": [
      "c: 6\n",
      "java: 5\n",
      "sql: 6\n",
      "sql: 6\n",
      "java: 5\n",
      "c: 6\n"
     ]
    }
   ],
   "source": [
    "language = ['c', 'java', 'sql','c', 'c', 'c', 'c', 'c', 'java', 'sql', 'java', 'sql', 'java', 'sql', 'java', 'sql', 'sql']\n",
    "counts = {}\n",
    "\n",
    "for lang in language:\n",
    "    if lang in counts:\n",
    "        counts[lang] += 1\n",
    "    else:\n",
    "        counts[lang] = 1\n",
    "for lang in sorted(counts):\n",
    "    print(f\"{lang}: {counts[lang]}\") \n",
    "\n",
    "for lang in sorted(counts, reverse = True):\n",
    "    print(f\"{lang}: {counts[lang]}\")    "
   ]
  },
  {
   "cell_type": "code",
   "execution_count": 26,
   "id": "b159ae70",
   "metadata": {},
   "outputs": [
    {
     "name": "stdout",
     "output_type": "stream",
     "text": [
      "enter a num: 4\n",
      "{1: 1, 2: 4, 3: 9, 4: 16}\n"
     ]
    }
   ],
   "source": [
    "n = int(input('enter a num: '))\n",
    "\n",
    "mul = {}\n",
    "for i in range(1, n+1):\n",
    "    mul[i] = i*i\n",
    "print(mul)"
   ]
  },
  {
   "cell_type": "code",
   "execution_count": 27,
   "id": "474c930b",
   "metadata": {},
   "outputs": [
    {
     "name": "stdout",
     "output_type": "stream",
     "text": [
      "enter numbers: 4,3,5\n",
      "['4', '3', '5']\n",
      "('4', '3', '5')\n"
     ]
    }
   ],
   "source": [
    "listed_num = input('enter numbers: ').split(',')\n",
    "\n",
    "print(list(listed_num))\n",
    "print(tuple(listed_num))"
   ]
  },
  {
   "cell_type": "code",
   "execution_count": 1,
   "id": "d5662167",
   "metadata": {},
   "outputs": [
    {
     "name": "stdout",
     "output_type": "stream",
     "text": [
      "hi there\n",
      "HI THERE\n"
     ]
    }
   ],
   "source": [
    "class InputOutString(object):\n",
    "    def __init__(self):\n",
    "        self.s = ''\n",
    "    def getString(self):\n",
    "        self.s = input()\n",
    "    def printString(self):\n",
    "        print(self.s.upper())\n",
    "\n",
    "strObj = InputOutString()\n",
    "strObj.getString()\n",
    "strObj.printString()"
   ]
  },
  {
   "cell_type": "code",
   "execution_count": 6,
   "id": "da69f99d",
   "metadata": {},
   "outputs": [
    {
     "name": "stdout",
     "output_type": "stream",
     "text": [
      "hi,ball,pie,love\n",
      "ball,hi,love,pie\n"
     ]
    }
   ],
   "source": [
    "items = [x for x in input().split(',')]\n",
    "items.sort()\n",
    "print(','.join(items))"
   ]
  },
  {
   "cell_type": "code",
   "execution_count": 9,
   "id": "eda34e27",
   "metadata": {},
   "outputs": [
    {
     "name": "stdout",
     "output_type": "stream",
     "text": [
      "hi this is \n",
      "rathnasree kalkura\n",
      "nice to meet you\n",
      "\n",
      "HI THIS IS \n",
      "RATHNASREE KALKURA\n",
      "NICE TO MEET YOU\n"
     ]
    }
   ],
   "source": [
    "lines = []\n",
    "while True:\n",
    "    s = input()\n",
    "    if s:\n",
    "        lines.append(s.upper())\n",
    "    else:\n",
    "        break;\n",
    "\n",
    "for sentence in lines:\n",
    "    print(sentence)"
   ]
  },
  {
   "cell_type": "code",
   "execution_count": 10,
   "id": "6fc00472",
   "metadata": {},
   "outputs": [
    {
     "name": "stdout",
     "output_type": "stream",
     "text": [
      "again and hello makes perfect practice world\n"
     ]
    }
   ],
   "source": [
    "word = str(\"hello world and practice makes perfect and hello world again\")\n",
    "word = word.split()\n",
    "word_set = set(word)\n",
    "sorted_list = sorted(word_set)\n",
    "print(' '.join(sorted_list))"
   ]
  },
  {
   "cell_type": "code",
   "execution_count": 11,
   "id": "a8e0171b",
   "metadata": {},
   "outputs": [
    {
     "name": "stdout",
     "output_type": "stream",
     "text": [
      "hello world and practice makes perfect and hello world again\n",
      "['hello', 'world', 'and', 'practice', 'makes', 'perfect', 'and', 'hello', 'world', 'again']\n",
      "again and hello makes perfect practice world\n"
     ]
    }
   ],
   "source": [
    "s = input()\n",
    "words = [word for word in s.split(\" \")]\n",
    "print(words)\n",
    "print(\" \".join(sorted(list(set(words)))))"
   ]
  },
  {
   "cell_type": "code",
   "execution_count": null,
   "id": "cd41a614",
   "metadata": {},
   "outputs": [],
   "source": [
    "sentence = input(\"Enter your sentence: \")\n",
    "new_list = sentence.split()\n",
    "for word in set(new_list):\n",
    "    if new_list.count(word) > 1:\n",
    "        print(word, new_list.count(word))"
   ]
  },
  {
   "cell_type": "code",
   "execution_count": 7,
   "id": "51cf953b",
   "metadata": {},
   "outputs": [
    {
     "name": "stdout",
     "output_type": "stream",
     "text": [
      "\n",
      "\n",
      "1 \n",
      "\n",
      "2 2 \n",
      "\n",
      "3 3 3 \n",
      "\n",
      "4 4 4 4 \n",
      "\n",
      "5 5 5 5 5 \n",
      "\n"
     ]
    }
   ],
   "source": [
    "for i in range(6):\n",
    "    for j in range(i):\n",
    "        print(i, end=\" \")\n",
    "    print(\"\\n\")"
   ]
  },
  {
   "cell_type": "code",
   "execution_count": 32,
   "id": "4b272c55",
   "metadata": {},
   "outputs": [
    {
     "name": "stdout",
     "output_type": "stream",
     "text": [
      "1 5 2\n"
     ]
    }
   ],
   "source": [
    "num = 251\n",
    "rev_num =str(num)[::-1]\n",
    "print(\" \".join(rev_num))"
   ]
  },
  {
   "cell_type": "code",
   "execution_count": 1,
   "id": "b8912c1d",
   "metadata": {},
   "outputs": [
    {
     "name": "stdout",
     "output_type": "stream",
     "text": [
      "* * * * * \n",
      "* * * * \n",
      "* * * \n",
      "* * \n",
      "* \n"
     ]
    }
   ],
   "source": [
    "for i in range(5,0,-1):\n",
    "    for j in range(i):\n",
    "        print(\"*\", end=\" \")\n",
    "    print()"
   ]
  },
  {
   "cell_type": "code",
   "execution_count": null,
   "id": "8bb594f0",
   "metadata": {},
   "outputs": [],
   "source": [
    "word1, word2, word3 = input('Enter 3 strings: ').split()\n",
    "\n",
    "print(f'Name1: {word1}, Name2: {word2}, Name3: {word3}')"
   ]
  },
  {
   "cell_type": "code",
   "execution_count": 34,
   "id": "224f4095",
   "metadata": {},
   "outputs": [
    {
     "name": "stdout",
     "output_type": "stream",
     "text": [
      "Enter a string: hello world python\n",
      "olleh dlrow nohtyp "
     ]
    }
   ],
   "source": [
    "sentence = input('Enter a string: ').split()\n",
    "\n",
    "for i in sentence:\n",
    "    rev_sentence = i[::-1]\n",
    "    print(''.join(rev_sentence), end=' ')"
   ]
  },
  {
   "cell_type": "code",
   "execution_count": 6,
   "id": "da982586",
   "metadata": {},
   "outputs": [
    {
     "name": "stdout",
     "output_type": "stream",
     "text": [
      "yM emaN si asseJ\n"
     ]
    }
   ],
   "source": [
    "def reverse_words(sentence):\n",
    "    words = sentence.split()\n",
    "    rev_sentence = ' '.join(word[::-1] for word in words)\n",
    "    return rev_sentence\n",
    "\n",
    "str1 = 'My Name is Jessa'\n",
    "print(reverse_words(str1))"
   ]
  },
  {
   "cell_type": "code",
   "execution_count": 36,
   "id": "1622cf70",
   "metadata": {},
   "outputs": [
    {
     "name": "stdout",
     "output_type": "stream",
     "text": [
      "1 \n",
      "1 2 \n",
      "1 2 3 \n",
      "1 2 3 4 \n",
      "1 2 3 4 5 \n"
     ]
    }
   ],
   "source": [
    "for i in range(1, 6):\n",
    "    for j in range(1, i+1):\n",
    "        print(j, end = ' ')\n",
    "    print()"
   ]
  },
  {
   "cell_type": "code",
   "execution_count": 5,
   "id": "170c1262",
   "metadata": {},
   "outputs": [
    {
     "name": "stdout",
     "output_type": "stream",
     "text": [
      "55\n"
     ]
    }
   ],
   "source": [
    "num = 10\n",
    "sum = 0\n",
    "for i in range(1, num+1):\n",
    "    sum = sum + i\n",
    "print(sum)"
   ]
  },
  {
   "cell_type": "code",
   "execution_count": null,
   "id": "c81d51c3",
   "metadata": {},
   "outputs": [],
   "source": [
    "n = 10\n",
    "print(sum(range(1, 11)))"
   ]
  },
  {
   "cell_type": "code",
   "execution_count": null,
   "id": "6669f748",
   "metadata": {},
   "outputs": [],
   "source": [
    "num = 2\n",
    "\n",
    "for i in range(1, 11):\n",
    "    print(num * i)"
   ]
  },
  {
   "cell_type": "code",
   "execution_count": 1,
   "id": "eacf9fa3",
   "metadata": {},
   "outputs": [
    {
     "name": "stdout",
     "output_type": "stream",
     "text": [
      "120\n"
     ]
    }
   ],
   "source": [
    "def fact(num):\n",
    "    if num == 0:\n",
    "        return 1\n",
    "    else:\n",
    "        return num * fact(num-1)\n",
    "    \n",
    "print(fact(5))"
   ]
  },
  {
   "cell_type": "code",
   "execution_count": 3,
   "id": "2ab218d1",
   "metadata": {},
   "outputs": [
    {
     "name": "stdout",
     "output_type": "stream",
     "text": [
      "Enter the word: siri\n",
      "iris\n"
     ]
    }
   ],
   "source": [
    "#Reverse string\n",
    "def rev_str(word: str) -> str:\n",
    "    reverse_char = []\n",
    "    for i in range(len(word)-1,-1,-1):\n",
    "        reverse_char.append(word[i])\n",
    "    return ''.join(reverse_char)\n",
    "word = input('Enter the word: ')\n",
    "print(rev_str(word))"
   ]
  },
  {
   "cell_type": "code",
   "execution_count": 8,
   "id": "8fb74452",
   "metadata": {},
   "outputs": [
    {
     "name": "stdout",
     "output_type": "stream",
     "text": [
      "Enter rows of pyramid: 3\n",
      "  *\n",
      " ***\n",
      "*****\n"
     ]
    }
   ],
   "source": [
    "n = int(input('Enter rows of pyramid: '))\n",
    "for i in range(n):\n",
    "    for _ in range(n-i-1):\n",
    "        print(' ', end='')\n",
    "    for _ in range(2*i+1):\n",
    "        print('*', end='')\n",
    "    print()"
   ]
  },
  {
   "cell_type": "code",
   "execution_count": 10,
   "id": "25475176",
   "metadata": {},
   "outputs": [
    {
     "name": "stdout",
     "output_type": "stream",
     "text": [
      "Enter the number: 4\n",
      "4 * 1 =  4\n",
      "4 * 2 =  8\n",
      "4 * 3 = 12\n",
      "4 * 4 = 16\n",
      "4 * 5 = 20\n",
      "4 * 6 = 24\n",
      "4 * 7 = 28\n",
      "4 * 8 = 32\n",
      "4 * 9 = 36\n",
      "4 * 10 = 40\n"
     ]
    }
   ],
   "source": [
    "#Multiply Table\n",
    "def multiply_table(num: int) -> None:\n",
    "    for i in range(1, 11):\n",
    "        print(f'{num} * {i:1} = {num* i:2}')\n",
    "\n",
    "number = int(input('Enter the number: '))\n",
    "multiply_table(number)"
   ]
  },
  {
   "cell_type": "code",
   "execution_count": 12,
   "id": "276812d2",
   "metadata": {},
   "outputs": [
    {
     "name": "stdout",
     "output_type": "stream",
     "text": [
      "45\n"
     ]
    }
   ],
   "source": [
    "#Largest Number in the list\n",
    "def find_largest(nums: list) -> int:\n",
    "    if not nums:\n",
    "        return None  # Handle empty list\n",
    "    largest = nums[0]\n",
    "    for num in nums:\n",
    "        if num > largest:\n",
    "            largest = num\n",
    "    return largest\n",
    "\n",
    "num_list = [14, 12, 0, 45, 29]\n",
    "print(find_largest(num_list)) "
   ]
  },
  {
   "cell_type": "code",
   "execution_count": 13,
   "id": "c720e870",
   "metadata": {},
   "outputs": [
    {
     "name": "stdout",
     "output_type": "stream",
     "text": [
      "7\n"
     ]
    }
   ],
   "source": [
    "from typing import Optional\n",
    "def smallest_num(num: list) -> Optional[int]:\n",
    "    if not num:\n",
    "        return None\n",
    "    smallest = num[0]\n",
    "    for i in num:\n",
    "        if i<smallest:\n",
    "            smallest = i\n",
    "    return smallest\n",
    "num = [12, 9, 7, 89, 100]\n",
    "print(smallest_num(num))"
   ]
  },
  {
   "cell_type": "code",
   "execution_count": 15,
   "id": "3f9eaca0",
   "metadata": {},
   "outputs": [
    {
     "name": "stdout",
     "output_type": "stream",
     "text": [
      "Enter the sentence: hi bye mama\n",
      "4\n"
     ]
    }
   ],
   "source": [
    "#Vowel in string\n",
    "\n",
    "def vowel_count(sentence: str) -> int:\n",
    "    vowels = ('a', 'e', 'i', 'o', 'u')\n",
    "    count = 0\n",
    "    for char in sentence.lower():\n",
    "        if char in vowels:\n",
    "            count += 1\n",
    "    return count\n",
    "\n",
    "user_inp = input(\"Enter the sentence: \")\n",
    "print(vowel_count(user_inp))"
   ]
  },
  {
   "cell_type": "code",
   "execution_count": 18,
   "id": "4c9c47a0",
   "metadata": {},
   "outputs": [
    {
     "name": "stdout",
     "output_type": "stream",
     "text": [
      "Enter the sentence: python3.12\n",
      "3\n"
     ]
    }
   ],
   "source": [
    "#Count Digits\n",
    "def digit_count(sentence: str) -> int:\n",
    "    count =0\n",
    "    for char in sentence:\n",
    "        if char.isdigit():\n",
    "            count += 1\n",
    "    return count\n",
    "\n",
    "sentence = input('Enter the sentence: ')\n",
    "print(digit_count(sentence))"
   ]
  },
  {
   "cell_type": "code",
   "execution_count": 1,
   "id": "ca3e6bf2",
   "metadata": {},
   "outputs": [
    {
     "name": "stdout",
     "output_type": "stream",
     "text": [
      "enter n: 5\n",
      "[0, 1, 1, 2, 3]\n"
     ]
    }
   ],
   "source": [
    "#8. Print Fibonacci series up to `n`.  \n",
    "\n",
    "def fibonocci(n: int) ->None:\n",
    "    if n<=0:\n",
    "        return []\n",
    "    series = []\n",
    "    num1, num2 = 0, 1\n",
    "    for _ in range(n):\n",
    "        series.append(num1)\n",
    "        num1, num2 = num2, num1 + num2\n",
    "    return series\n",
    "\n",
    "n = int(input(\"enter n: \"))\n",
    "print(fibonocci(n))"
   ]
  },
  {
   "cell_type": "code",
   "execution_count": 2,
   "id": "05cbdf7b",
   "metadata": {},
   "outputs": [
    {
     "name": "stdout",
     "output_type": "stream",
     "text": [
      "Enter N value: 4\n",
      "24\n"
     ]
    }
   ],
   "source": [
    "#9. Calculate factorial (iterative).  \n",
    "\n",
    "def factorial_recursive(n: int) ->None:\n",
    "    if n<0:\n",
    "        return 'Invalid Input'\n",
    "    elif n == 0 or n == 1:\n",
    "        return 1\n",
    "    else:\n",
    "        return n * factorial_recursive(n-1)\n",
    "\n",
    "n = int(input(\"Enter N value: \"))\n",
    "print(factorial_recursive(n))"
   ]
  },
  {
   "cell_type": "code",
   "execution_count": 3,
   "id": "cc670c99",
   "metadata": {},
   "outputs": [
    {
     "name": "stdout",
     "output_type": "stream",
     "text": [
      "['2', '34', '10', '100']\n"
     ]
    }
   ],
   "source": [
    "#1. Remove duplicates from a list.  \n",
    "dollars = ['2', '34', '10', '2', '100', '34']\n",
    "\n",
    "no_duplicates = []\n",
    "\n",
    "for _ in dollars:\n",
    "    if _ not in no_duplicates:\n",
    "        no_duplicates.append(_)\n",
    "\n",
    "print(no_duplicates)"
   ]
  },
  {
   "cell_type": "code",
   "execution_count": 4,
   "id": "cd870f95",
   "metadata": {},
   "outputs": [
    {
     "name": "stdout",
     "output_type": "stream",
     "text": [
      "{'tomato': 20, 'potato': 30, 'chilly': 5, 'cilantro': 7, 'carrot': 30, 'lemon': 15}\n"
     ]
    }
   ],
   "source": [
    "#2. Merge two dictionaries, summing values for common keys. \n",
    "\n",
    "veggiesCust1 = {'tomato' : 20, 'potato': 10, 'chilly': 5, 'cilantro' : 2}\n",
    "veggiesCust2 = {'carrot' : 30, 'potato': 20, 'lemon': 15, 'cilantro' : 5}\n",
    "\n",
    "veggiesTotal = veggiesCust1.copy()\n",
    "\n",
    "for key, value in veggiesCust2.items():\n",
    "    if key in veggiesTotal:\n",
    "        veggiesTotal[key] += value\n",
    "    else:\n",
    "        veggiesTotal[key] = value\n",
    "print(veggiesTotal)\n"
   ]
  },
  {
   "cell_type": "code",
   "execution_count": 5,
   "id": "f1f4ea73",
   "metadata": {},
   "outputs": [
    {
     "name": "stdout",
     "output_type": "stream",
     "text": [
      "[1, 2, 3, 4, 5, 6, 7, 8]\n"
     ]
    }
   ],
   "source": [
    "# 3. Flatten a nested list.  \n",
    "\n",
    "nested_list = [[1, 2, 3], [4, 5], [6, 7, 8]]\n",
    "flattened_list = []\n",
    "for i in nested_list:\n",
    "    for j in i:\n",
    "     flattened_list.append(j)\n",
    "print(flattened_list)"
   ]
  },
  {
   "cell_type": "code",
   "execution_count": 6,
   "id": "10cabb41",
   "metadata": {},
   "outputs": [
    {
     "name": "stdout",
     "output_type": "stream",
     "text": [
      "[1, 2, 3, 4, 5, 6, 7, 8]\n"
     ]
    }
   ],
   "source": [
    "# 3. Flatten a nested list.  \n",
    "from itertools import chain\n",
    "\n",
    "nested_list = [[1, 2, 3], [4, 5], [6, 7, 8]]\n",
    "flattened_list = list(chain.from_iterable(nested_list))\n",
    "\n",
    "print(flattened_list)"
   ]
  },
  {
   "cell_type": "code",
   "execution_count": 7,
   "id": "7fae0040",
   "metadata": {},
   "outputs": [
    {
     "name": "stdout",
     "output_type": "stream",
     "text": [
      "5 15\n",
      "10 10\n",
      "18 2\n"
     ]
    }
   ],
   "source": [
    "# 4. Find pairs in a list that sum to `k`.  \n",
    "num = 20\n",
    "sum_list = [5, 10, 10, 15, 18, 2]\n",
    "\n",
    "for i in range(len(sum_list)):\n",
    "    for j in range(i+1, len(sum_list)):\n",
    "        if sum_list[i] + sum_list[j] == num:\n",
    "            print(sum_list[i] , sum_list[j])"
   ]
  },
  {
   "cell_type": "code",
   "execution_count": 8,
   "id": "715bd4f5",
   "metadata": {},
   "outputs": [
    {
     "name": "stdout",
     "output_type": "stream",
     "text": [
      "[18, 2, 5, 10, 10, 15]\n",
      "[10, 15, 18, 2, 5, 10]\n",
      "[10, 15, 18, 2, 5, 10]\n",
      "[10, 15, 18, 2, 5, 10]\n"
     ]
    }
   ],
   "source": [
    "def rotate_list(lst: list, n: int, direction: str = \"right\") -> list:\n",
    "    if not lst:  # Handle empty list\n",
    "        return []\n",
    "    length = len(lst)\n",
    "    n = n % length  # Normalize n to handle large/negative values\n",
    "    if n == 0:\n",
    "        return lst.copy()\n",
    "    if direction == \"right\":\n",
    "        return lst[-n:] + lst[:-n]\n",
    "    elif direction == \"left\":\n",
    "        return lst[n:] + lst[:n]\n",
    "    else:\n",
    "        raise ValueError(\"Direction must be 'left' or 'right'.\")\n",
    "\n",
    "# Test cases\n",
    "given_list = [5, 10, 10, 15, 18, 2]\n",
    "\n",
    "# Right rotation by 2 positions\n",
    "print(rotate_list(given_list, 2, \"right\"))  \n",
    "\n",
    "# Left rotation by 2 positions\n",
    "print(rotate_list(given_list, 2, \"left\"))  \n",
    "\n",
    "# Handle large/negative n\n",
    "print(rotate_list(given_list, -2, \"right\")) \n",
    "print(rotate_list(given_list, 8, \"left\"))   "
   ]
  },
  {
   "cell_type": "code",
   "execution_count": 12,
   "id": "c1dcb77d",
   "metadata": {},
   "outputs": [
    {
     "name": "stdout",
     "output_type": "stream",
     "text": [
      "{'i': 2, 'know': 3, 'you': 2, 'they': 1, 'that': 1, 'am': 1}\n"
     ]
    }
   ],
   "source": [
    "#6. Count frequency of words in a string.  \n",
    "given_string = 'i know you know they know that i am you'\n",
    "each_word = given_string.split()\n",
    "word_count = {}\n",
    "\n",
    "for word in each_word :\n",
    "    word_count[word] = word_count.get(word, 0) + 1\n",
    "print(word_count)"
   ]
  },
  {
   "cell_type": "code",
   "execution_count": 14,
   "id": "d11cd127",
   "metadata": {},
   "outputs": [
    {
     "name": "stdout",
     "output_type": "stream",
     "text": [
      "{'i': 2, 'know': 3, 'you': 2, 'they': 1, 'that': 1, 'am': 1}\n"
     ]
    }
   ],
   "source": [
    "#or\n",
    "from collections import Counter\n",
    "\n",
    "given_string = 'i know you know they know that i am you'\n",
    "word_count = Counter(given_string.split())\n",
    "print(dict(word_count))"
   ]
  },
  {
   "cell_type": "code",
   "execution_count": 19,
   "id": "051c5c8d",
   "metadata": {},
   "outputs": [
    {
     "name": "stdout",
     "output_type": "stream",
     "text": [
      "{0: 1, 1: 15, 2: 18, 3: 31, 4: 23}\n"
     ]
    }
   ],
   "source": [
    "# 9. Convert a list to a dictionary with indices as keys.\n",
    "list_conv = [1, 15, 18, 31, 23]\n",
    "\n",
    "# Using dictionary comprehension to create the dictionary\n",
    "dict_conv = {i: list_conv[i] for i in range(len(list_conv))}\n",
    "\n",
    "print(dict_conv)"
   ]
  },
  {
   "cell_type": "code",
   "execution_count": 20,
   "id": "6ce93a8c",
   "metadata": {},
   "outputs": [
    {
     "name": "stdout",
     "output_type": "stream",
     "text": [
      "[[1, 15], [18, 31], [23, 46], [90, 78]]\n"
     ]
    }
   ],
   "source": [
    "# 10. Split a list into chunks of size `n`.  \n",
    "\n",
    "g_list = [1, 15, 18, 31, 23, 46, 90, 78]\n",
    "n = 2\n",
    "split_list = [g_list[i:i+n] for i in range(0, len(g_list), n)]\n",
    "print(split_list)"
   ]
  },
  {
   "cell_type": "code",
   "execution_count": 21,
   "id": "a9bc399d",
   "metadata": {},
   "outputs": [
    {
     "name": "stdout",
     "output_type": "stream",
     "text": [
      "Enter the word: civic\n",
      "True\n"
     ]
    }
   ],
   "source": [
    "# 1. Check palindrome (ignore case/space).  \n",
    "def palindrome(word: str) -> bool:\n",
    "    cleaned_word = word.replace(\" \",\"\").lower()\n",
    "    rev_word = cleaned_word[::-1]\n",
    "    return cleaned_word == rev_word\n",
    "\n",
    "word = input('Enter the word: ')\n",
    "print(palindrome(word))"
   ]
  },
  {
   "cell_type": "code",
   "execution_count": 22,
   "id": "c766d3ea",
   "metadata": {},
   "outputs": [
    {
     "name": "stdout",
     "output_type": "stream",
     "text": [
      "Enter the Sentence: hi this is me\n",
      "me is this hi\n"
     ]
    }
   ],
   "source": [
    "def rev_word(sentense: str) -> str:\n",
    "    word = sentense.split()\n",
    "    reverse = ' '.join(reversed(word))\n",
    "    return reverse\n",
    "\n",
    "sentense = input(\"Enter the Sentence: \")\n",
    "print(rev_word(sentense))"
   ]
  },
  {
   "cell_type": "code",
   "execution_count": 24,
   "id": "11d74d81",
   "metadata": {},
   "outputs": [
    {
     "name": "stdout",
     "output_type": "stream",
     "text": [
      "Enter the number of terms: 4\n",
      "[0, 1, 1, 2]\n"
     ]
    }
   ],
   "source": [
    "# Recursive Fibonacci\n",
    "def recursive_fibonacci(n: int) -> int:\n",
    "    if n <= 0:\n",
    "        return 0\n",
    "    elif n == 1:\n",
    "        return 1\n",
    "    else:\n",
    "        return recursive_fibonacci(n-1) + recursive_fibonacci(n-2)\n",
    "\n",
    "num = int(input(\"Enter the number of terms: \"))\n",
    "series = [recursive_fibonacci(i) for i in range(num)]\n",
    "print(series)"
   ]
  },
  {
   "cell_type": "code",
   "execution_count": 25,
   "id": "ba6aa439",
   "metadata": {},
   "outputs": [
    {
     "name": "stdout",
     "output_type": "stream",
     "text": [
      "a3b2c1\n"
     ]
    }
   ],
   "source": [
    "# 8. String compression (e.g., \"aaabbc\" → \"a3b2c1\").  \n",
    "\n",
    "word = \"aaabbc\"\n",
    "char = []\n",
    "count = 1\n",
    "\n",
    "for i in range(1, len(word)):\n",
    "    if word[i] == word[i-1]:\n",
    "        count += 1\n",
    "    else:\n",
    "        char.append(word[i-1] + str(count))\n",
    "        count = 1\n",
    "char.append(word[-1]+str(count))\n",
    "\n",
    "string_compression = ''.join(char)\n",
    "print(string_compression)"
   ]
  },
  {
   "cell_type": "code",
   "execution_count": null,
   "id": "b040a3e0",
   "metadata": {},
   "outputs": [],
   "source": []
  }
 ],
 "metadata": {
  "kernelspec": {
   "display_name": "Python 3 (ipykernel)",
   "language": "python",
   "name": "python3"
  },
  "language_info": {
   "codemirror_mode": {
    "name": "ipython",
    "version": 3
   },
   "file_extension": ".py",
   "mimetype": "text/x-python",
   "name": "python",
   "nbconvert_exporter": "python",
   "pygments_lexer": "ipython3",
   "version": "3.11.5"
  }
 },
 "nbformat": 4,
 "nbformat_minor": 5
}
